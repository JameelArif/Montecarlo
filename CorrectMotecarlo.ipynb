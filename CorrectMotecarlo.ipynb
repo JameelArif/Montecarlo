{
  "nbformat": 4,
  "nbformat_minor": 0,
  "metadata": {
    "colab": {
      "provenance": [],
      "authorship_tag": "ABX9TyP6Ihwv/kLHIQGlBOHOtXwt",
      "include_colab_link": true
    },
    "kernelspec": {
      "name": "python3",
      "display_name": "Python 3"
    },
    "language_info": {
      "name": "python"
    }
  },
  "cells": [
    {
      "cell_type": "markdown",
      "metadata": {
        "id": "view-in-github",
        "colab_type": "text"
      },
      "source": [
        "<a href=\"https://colab.research.google.com/github/JameelArif/Montecarlo/blob/main/CorrectMotecarlo.ipynb\" target=\"_parent\"><img src=\"https://colab.research.google.com/assets/colab-badge.svg\" alt=\"Open In Colab\"/></a>"
      ]
    },
    {
      "cell_type": "code",
      "execution_count": 6,
      "metadata": {
        "colab": {
          "base_uri": "https://localhost:8080/"
        },
        "id": "kTna0KjfFhn8",
        "outputId": "ac5f49dc-f9da-4da8-b5a7-f2a85ac9f24b"
      },
      "outputs": [
        {
          "output_type": "stream",
          "name": "stdout",
          "text": [
            "n =  5000000  |Value is =  8.520884233982734  |Error =  2.123957898603953e-06  |Execution time = 8.959195613861084\n"
          ]
        }
      ],
      "source": [
        "\n",
        "# -*- coding: utf-8 -*-\n",
        "\"\"\"\n",
        "Created on Sun Feb 4 09:01:54 2023\n",
        "\n",
        "@author: https://github.com/JameelArif\n",
        "\"\"\"\n",
        "\n",
        "import numpy as np\n",
        "import math\n",
        "import time\n",
        "import random\n",
        "\n",
        "def Integral(loopitt,interval,Pi):\n",
        "    mean=0\n",
        "    n=0\n",
        "    for t in np.arange(0,loopitt,interval):  \n",
        "        x=random.uniform(t, (t+interval))\n",
        "        value=(2*(x**3))*(math.sin(x**2))    \n",
        "        mean=mean+value\n",
        "        n=n+1\n",
        "        \n",
        "    meanxi=mean/n\n",
        "    integral=meanxi*Pi\n",
        "\n",
        "    return integral\n",
        "\n",
        "\n",
        "Pi=3.14\n",
        "n=5000000 #This is n \n",
        "interval=Pi/n\n",
        "loopitt=((n-1)*interval)\n",
        "\n",
        "st = time.time()\n",
        "integral=Integral(loopitt,interval,Pi);\n",
        "error=abs(  (  (( (-1)*(Pi*Pi) *  (math.cos(Pi*Pi)) ) + math.sin(Pi*Pi) )  -  integral )  /  (  ( (-1)*(Pi*Pi) *  (math.cos(Pi*Pi)) ) + math.sin(Pi*Pi) ) ) \n",
        "\n",
        "et = time.time()\n",
        "Executiontime= et-st\n",
        "print(\"n = \", n, \" |Value is = \", integral , \" |Error = \",error, \" |Execution time =\",Executiontime )\n"
      ]
    }
  ]
}